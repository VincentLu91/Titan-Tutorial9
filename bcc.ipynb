{
 "cells": [
  {
   "cell_type": "code",
   "execution_count": 1,
   "metadata": {},
   "outputs": [],
   "source": [
    "import pandas as pd\n",
    "import numpy as np\n",
    "from sklearn.model_selection import train_test_split\n",
    "from sklearn.svm import SVC\n",
    "from sklearn.preprocessing import LabelEncoder\n",
    "from sklearn.metrics import classification_report\n",
    "from sklearn.metrics import precision_recall_fscore_support as score\n",
    "from sklearn.model_selection import GridSearchCV\n",
    "import functools\n",
    "import json"
   ]
  },
  {
   "cell_type": "code",
   "execution_count": 2,
   "metadata": {},
   "outputs": [
    {
     "name": "stdout",
     "output_type": "stream",
     "text": [
      "Dataset successfully updated\n"
     ]
    }
   ],
   "source": [
    "# Read and prepare data\n",
    "df_cancer = pd.read_csv(\"https://storage.googleapis.com/tutorial-datasets/data.csv\")\n",
    "df_cancer = df_cancer.drop(['id'], axis = 1)\n",
    "df_cancer.drop(\"Unnamed: 32\",axis=1,inplace=True)\n",
    "\n",
    "# Define X and y\n",
    "X = df_cancer.drop(['diagnosis'], axis = 1)\n",
    "pd.set_option('display.max_columns', None)\n",
    "df_cancer['diagnosis'] = df_cancer['diagnosis'].replace({'M': 0.0, 'B': 1.0})\n",
    "y = df_cancer['diagnosis']\n",
    "\n",
    "# Split dataset\n",
    "X_train, X_test, y_train, y_test = train_test_split(X, y, test_size = 0.2, random_state = 20)\n",
    "\n",
    "# Scale data\n",
    "X_train_min = X_train.min()\n",
    "X_train_max = X_train.max()\n",
    "X_train_range = (X_train_max- X_train_min)\n",
    "X_train_scaled = (X_train - X_train_min)/(X_train_range)\n",
    "X_test_min = X_test.min()\n",
    "X_test_range = (X_test - X_test_min).max()\n",
    "X_test_scaled = (X_test - X_test_min)/X_test_range  \n",
    "\n",
    "svc_model = SVC()\n",
    "y_predict =  None\n",
    "\n",
    "print(\"Dataset successfully updated\")"
   ]
  },
  {
   "cell_type": "code",
   "execution_count": 3,
   "metadata": {},
   "outputs": [],
   "source": [
    "def update_data():\n",
    "  # Read and prepare data\n",
    "  df_cancer = pd.read_csv(\"https://storage.googleapis.com/tutorial-datasets/data.csv\")\n",
    "  df_cancer = df_cancer.drop(['id'], axis = 1)\n",
    "  df_cancer.drop(\"Unnamed: 32\",axis=1,inplace=True)\n",
    "\n",
    "  # Define X and y\n",
    "  X = df_cancer.drop(['diagnosis'], axis = 1)\n",
    "  pd.set_option('display.max_columns', None)\n",
    "  df_cancer['diagnosis'] = df_cancer['diagnosis'].replace({'M': 0.0, 'B': 1.0})\n",
    "  y = df_cancer['diagnosis']\n",
    "\n",
    "  # Split dataset\n",
    "  X_train, X_test, y_train, y_test = train_test_split(X, y, test_size = 0.2, random_state = 20)\n",
    "\n",
    "  # Scale data\n",
    "  X_train_min = X_train.min()\n",
    "  X_train_max = X_train.max()\n",
    "  X_train_range = (X_train_max- X_train_min)\n",
    "  X_train_scaled = (X_train - X_train_min)/(X_train_range)\n",
    "  X_test_min = X_test.min()\n",
    "  X_test_range = (X_test - X_test_min).max()\n",
    "  X_test_scaled = (X_test - X_test_min)/X_test_range  \n",
    "\n",
    "  return (\"Dataset successfully updated\")"
   ]
  },
  {
   "cell_type": "code",
   "execution_count": 4,
   "metadata": {},
   "outputs": [],
   "source": [
    "def endpoint(fn):\n",
    "  @functools.wraps(fn)\n",
    "  def wrapper(*args, **kwds):\n",
    "    req = args[0] if len(args) > 0 else '{}'\n",
    "    request = json.loads(req)\n",
    "    args = request.get('args', {})\n",
    "    body = request.get('body', {})\n",
    "    return fn(*(args, body), **kwds)\n",
    "  return wrapper"
   ]
  },
  {
   "cell_type": "code",
   "execution_count": 5,
   "metadata": {},
   "outputs": [],
   "source": [
    "@endpoint\n",
    "def train_svm(args, body):\n",
    "  type = args.get('param', args.get('basic', None))\n",
    "    \n",
    "  if type[0] == \"basic\":\n",
    "    svc_model.fit(X_train, y_train)\n",
    "    y_predict = svc_model.predict(X_test)\n",
    "  \n",
    "  if type[0] == \"normalized\":\n",
    "    svc_model.fit(X_train_scaled, y_train)\n",
    "    y_predict = svc_model.predict(X_test_scaled)\n",
    "    \n",
    "  if type[0] == \"gridsearch\":\n",
    "    param_grid = {'C': [0.1, 1, 10, 100], 'gamma': [1, 0.1, 0.01, 0.001], 'kernel': ['rbf']} \n",
    "    grid = GridSearchCV(SVC(),param_grid,refit=True,verbose=4)\n",
    "    grid.fit(X_train_scaled,y_train)\n",
    "    y_predict = grid.predict(X_test_scaled)\n",
    "    \n",
    "  return y_predict, svc_model"
   ]
  },
  {
   "cell_type": "code",
   "execution_count": 6,
   "metadata": {},
   "outputs": [],
   "source": [
    "@endpoint\n",
    "def prediction(args, body):\n",
    "  if (svc_model.predict(body.get('data', []))[0] == 1.0):\n",
    "    return \"Benign\"\n",
    "  elif (svc_model.predict(body.get('data', []))[0] == 0.0):\n",
    "    return \"Malign\""
   ]
  },
  {
   "cell_type": "code",
   "execution_count": 7,
   "metadata": {},
   "outputs": [],
   "source": [
    "def get_recall():\n",
    "  if y_predict is not None:\n",
    "    precision,recall,fscore,support=score(y_test,y_predict,average='macro')\n",
    "    return recall\n",
    "  else:\n",
    "    return \"Model not trained yet, make a call to /train_svm to train it\""
   ]
  },
  {
   "cell_type": "code",
   "execution_count": 8,
   "metadata": {},
   "outputs": [],
   "source": [
    "def show_performance():\n",
    "  if y_predict is not None:\n",
    "    return classification_report(y_test, y_predict)\n",
    "  else:\n",
    "    return \"Model not trained yet, make a call to /train_svm to train it\""
   ]
  },
  {
   "cell_type": "code",
   "execution_count": 9,
   "metadata": {},
   "outputs": [],
   "source": [
    "# Mock request object for local API testing\n",
    "args = {\n",
    "    'param': ['normalized']\n",
    "}\n",
    "\n",
    "body = {\n",
    "\"data\": [[0.43379,0.576674,0.145236,0.079089,0.391132,0.378409,0.250831,0.149869,0.261526,0.389277,0.172851,0.429501,0.184958,0.058061,0.320735,0.429637,0.714606,0.629737,0.346465,0.291192,0.112803,0.462482,0.111893,0.056220,0.393047,0.253766,0.344997,0.296245,0.181283,0.243578]]\n",
    "}\n",
    "\n",
    "REQUEST = json.dumps({ 'args': args, 'body': body })"
   ]
  },
  {
   "cell_type": "code",
   "execution_count": 10,
   "metadata": {},
   "outputs": [
    {
     "name": "stdout",
     "output_type": "stream",
     "text": [
      "Dataset successfully updated\n"
     ]
    }
   ],
   "source": [
    "# GET /update_data\n",
    "print(update_data())"
   ]
  },
  {
   "cell_type": "code",
   "execution_count": 11,
   "metadata": {},
   "outputs": [
    {
     "name": "stdout",
     "output_type": "stream",
     "text": [
      "SVM trained!\n"
     ]
    },
    {
     "name": "stderr",
     "output_type": "stream",
     "text": [
      "/opt/anaconda3/lib/python3.6/site-packages/sklearn/svm/base.py:193: FutureWarning: The default value of gamma will change from 'auto' to 'scale' in version 0.22 to account better for unscaled features. Set gamma explicitly to 'auto' or 'scale' to avoid this warning.\n",
      "  \"avoid this warning.\", FutureWarning)\n"
     ]
    }
   ],
   "source": [
    "# POST /train_svm\n",
    "y_predict, svc_model=train_svm(REQUEST)\n",
    "print(\"SVM trained!\")"
   ]
  },
  {
   "cell_type": "code",
   "execution_count": 12,
   "metadata": {},
   "outputs": [
    {
     "name": "stdout",
     "output_type": "stream",
     "text": [
      "Benign\n"
     ]
    }
   ],
   "source": [
    "# POST /predict\n",
    "print(prediction(REQUEST))"
   ]
  },
  {
   "cell_type": "code",
   "execution_count": 13,
   "metadata": {},
   "outputs": [
    {
     "name": "stdout",
     "output_type": "stream",
     "text": [
      "              precision    recall  f1-score   support\n",
      "\n",
      "         0.0       1.00      0.98      0.99        48\n",
      "         1.0       0.99      1.00      0.99        66\n",
      "\n",
      "    accuracy                           0.99       114\n",
      "   macro avg       0.99      0.99      0.99       114\n",
      "weighted avg       0.99      0.99      0.99       114\n",
      "\n"
     ]
    }
   ],
   "source": [
    "# GET /show_performance\n",
    "print(show_performance())"
   ]
  },
  {
   "cell_type": "code",
   "execution_count": 14,
   "metadata": {},
   "outputs": [
    {
     "name": "stdout",
     "output_type": "stream",
     "text": [
      "0.9895833333333333\n"
     ]
    }
   ],
   "source": [
    "# GET /get_recall\n",
    "print(get_recall())"
   ]
  },
  {
   "cell_type": "code",
   "execution_count": null,
   "metadata": {},
   "outputs": [],
   "source": []
  }
 ],
 "metadata": {
  "kernelspec": {
   "display_name": "Python 3",
   "language": "python",
   "name": "python3"
  },
  "language_info": {
   "codemirror_mode": {
    "name": "ipython",
    "version": 3
   },
   "file_extension": ".py",
   "mimetype": "text/x-python",
   "name": "python",
   "nbconvert_exporter": "python",
   "pygments_lexer": "ipython3",
   "version": "3.6.9"
  }
 },
 "nbformat": 4,
 "nbformat_minor": 4
}
